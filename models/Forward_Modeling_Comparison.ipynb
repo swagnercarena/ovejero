{
 "cells": [
  {
   "cell_type": "code",
   "execution_count": 18,
   "metadata": {},
   "outputs": [],
   "source": [
    "import pandas as pd\n",
    "import numpy as np\n",
    "import matplotlib.pyplot as plt\n",
    "from baobab import configs\n",
    "from baobab.sim_utils import instantiate_PSF_models, get_PSF_model, generate_image, Selection\n",
    "from baobab.data_augmentation import noise_tf \n",
    "from lenstronomy.LensModel.lens_model import LensModel\n",
    "from lenstronomy.LensModel.Solver.lens_equation_solver import LensEquationSolver\n",
    "from lenstronomy.LightModel.light_model import LightModel\n",
    "from lenstronomy.SimulationAPI.data_api import DataAPI\n",
    "import lenstronomy.Util.util as util\n",
    "import emcee\n",
    "import os"
   ]
  },
  {
   "cell_type": "markdown",
   "metadata": {},
   "source": [
    "# Testing the Performance of Trained Models\n",
    "\n",
    "__Author:__ Sebastian Wagner-Carena\n",
    "\n",
    "__Created:__ 04/01/2020\n",
    "\n",
    "__Last Run:__ 04/01/2020\n",
    "\n",
    "__Goals:__ Compare the performance of the BNN model to a forward modeling approach"
   ]
  },
  {
   "cell_type": "code",
   "execution_count": 4,
   "metadata": {},
   "outputs": [
    {
     "name": "stdout",
     "output_type": "stream",
     "text": [
      "{'read_noise': 10.0, 'sky_brightness': 20.1, 'ccd_gain': 2.5, 'pixel_scale': 0.08, 'num_exposures': 10, 'background_noise': None, 'exposure_time': 5400.0, 'magnitude_zero_point': 25.9463}\n"
     ]
    },
    {
     "data": {
      "image/png": "[encoded data removed]",
      "text/plain": [
       "<Figure size 432x288 with 1 Axes>"
      ]
     },
     "metadata": {
      "needs_background": "light"
     },
     "output_type": "display_data"
    }
   ],
   "source": [
    "# First we load the image we'll be using to compare to the forward modeling\n",
    "dataset_root_path = '../datasets/val/'\n",
    "metadata = pd.read_csv(os.path.join(dataset_root_path,'metadata.csv'))\n",
    "\n",
    "# We need the baobab config to pull the noise parameters we're going to use\n",
    "baobab_config_path = '../configs/baobab_configs/val_diagonal.py'\n",
    "\n",
    "\n",
    "# Specify the image index and load the image\n",
    "image_i = 30\n",
    "img_filename = 'X_'+'0'*(6-int(np.log10(image_i)))+str(image_i)+'.npy'\n",
    "image = np.load(os.path.join(dataset_root_path,img_filename)).astype(np.float32)\n",
    "\n",
    "# Now we need to add noise to the image\n",
    "baobab_cfg = configs.BaobabConfig.from_file(baobab_config_path)\n",
    "noise_kwargs = baobab_cfg.get_noise_kwargs()\n",
    "print(noise_kwargs)\n",
    "noise_function = noise_tf.NoiseModelTF(**noise_kwargs)\n",
    "image = noise_function.add_noise(image).numpy()\n",
    "\n",
    "\n",
    "# Let's see what we've got\n",
    "plt.imshow(image,origin='lower')\n",
    "plt.show()\n",
    "image_data = metadata[metadata['img_filename'] == img_filename]"
   ]
  },
  {
   "cell_type": "markdown",
   "metadata": {},
   "source": [
    "## Forward Modeling"
   ]
  },
  {
   "cell_type": "code",
   "execution_count": 5,
   "metadata": {},
   "outputs": [],
   "source": [
    "# We will use the baobab code to generate our images and then calculate the likelihood manually\n",
    "# Get the psf model\n",
    "psf_models = instantiate_PSF_models(baobab_cfg.psf, baobab_cfg.instrument.pixel_scale)\n",
    "\n",
    "# Get the model parameter kwargs\n",
    "kwargs_model = dict(\n",
    "                    lens_model_list=[baobab_cfg.bnn_omega.lens_mass.profile, \n",
    "                                     baobab_cfg.bnn_omega.external_shear.profile],\n",
    "                    source_light_model_list=[baobab_cfg.bnn_omega.src_light.profile]\n",
    "                    )\n",
    "\n",
    "lens_mass_model = LensModel(lens_model_list=kwargs_model['lens_model_list'])\n",
    "src_light_model = LightModel(light_model_list=kwargs_model['source_light_model_list'])\n",
    "lens_eq_solver = LensEquationSolver(lens_mass_model)\n",
    "lens_light_model = None\n",
    "ps_model = None\n",
    "selection = Selection(baobab_cfg.selection, baobab_cfg.components)\n",
    "\n",
    "psf_model = get_PSF_model(psf_models, 1, 0)\n",
    "kwargs_detector = util.merge_dicts(baobab_cfg.instrument, baobab_cfg.bandpass, baobab_cfg.observation)\n",
    "kwargs_detector.update(seeing=baobab_cfg.psf.fwhm,\n",
    "                       psf_type=baobab_cfg.psf.type,\n",
    "                       kernel_point_source=psf_model,\n",
    "                       background_noise=0.0)\n",
    "data_api = DataAPI(baobab_cfg.image.num_pix, **kwargs_detector)\n"
   ]
  },
  {
   "cell_type": "code",
   "execution_count": 6,
   "metadata": {},
   "outputs": [
    {
     "data": {
      "text/html": [
       "<div>\n",
       "<style scoped>\n",
       "    .dataframe tbody tr th:only-of-type {\n",
       "        vertical-align: middle;\n",
       "    }\n",
       "\n",
       "    .dataframe tbody tr th {\n",
       "        vertical-align: top;\n",
       "    }\n",
       "\n",
       "    .dataframe thead th {\n",
       "        text-align: right;\n",
       "    }\n",
       "</style>\n",
       "<table border=\"1\" class=\"dataframe\">\n",
       "  <thead>\n",
       "    <tr style=\"text-align: right;\">\n",
       "      <th></th>\n",
       "      <th>external_shear_dec_0</th>\n",
       "      <th>external_shear_gamma_ext</th>\n",
       "      <th>external_shear_psi_ext</th>\n",
       "      <th>external_shear_ra_0</th>\n",
       "      <th>img_filename</th>\n",
       "      <th>lens_mass_center_x</th>\n",
       "      <th>lens_mass_center_y</th>\n",
       "      <th>lens_mass_e1</th>\n",
       "      <th>lens_mass_e2</th>\n",
       "      <th>lens_mass_gamma</th>\n",
       "      <th>lens_mass_theta_E</th>\n",
       "      <th>src_light_R_sersic</th>\n",
       "      <th>src_light_center_x</th>\n",
       "      <th>src_light_center_y</th>\n",
       "      <th>src_light_e1</th>\n",
       "      <th>src_light_e2</th>\n",
       "      <th>src_light_magnitude</th>\n",
       "      <th>src_light_n_sersic</th>\n",
       "      <th>total_magnification</th>\n",
       "    </tr>\n",
       "  </thead>\n",
       "  <tbody>\n",
       "    <tr>\n",
       "      <th>30</th>\n",
       "      <td>-0.015081</td>\n",
       "      <td>0.06482</td>\n",
       "      <td>0.059447</td>\n",
       "      <td>0.071493</td>\n",
       "      <td>X_0000030.npy</td>\n",
       "      <td>0.071493</td>\n",
       "      <td>-0.015081</td>\n",
       "      <td>-0.537437</td>\n",
       "      <td>-0.131297</td>\n",
       "      <td>1.96049</td>\n",
       "      <td>1.012818</td>\n",
       "      <td>0.568049</td>\n",
       "      <td>0.454496</td>\n",
       "      <td>-0.041381</td>\n",
       "      <td>-0.201506</td>\n",
       "      <td>-0.232816</td>\n",
       "      <td>23.76911</td>\n",
       "      <td>2.292108</td>\n",
       "      <td>2.767655</td>\n",
       "    </tr>\n",
       "  </tbody>\n",
       "</table>\n",
       "</div>"
      ],
      "text/plain": [
       "    external_shear_dec_0  external_shear_gamma_ext  external_shear_psi_ext  \\\n",
       "30             -0.015081                   0.06482                0.059447   \n",
       "\n",
       "    external_shear_ra_0   img_filename  lens_mass_center_x  \\\n",
       "30             0.071493  X_0000030.npy            0.071493   \n",
       "\n",
       "    lens_mass_center_y  lens_mass_e1  lens_mass_e2  lens_mass_gamma  \\\n",
       "30           -0.015081     -0.537437     -0.131297          1.96049   \n",
       "\n",
       "    lens_mass_theta_E  src_light_R_sersic  src_light_center_x  \\\n",
       "30           1.012818            0.568049            0.454496   \n",
       "\n",
       "    src_light_center_y  src_light_e1  src_light_e2  src_light_magnitude  \\\n",
       "30           -0.041381     -0.201506     -0.232816             23.76911   \n",
       "\n",
       "    src_light_n_sersic  total_magnification  \n",
       "30            2.292108             2.767655  "
      ]
     },
     "execution_count": 6,
     "metadata": {},
     "output_type": "execute_result"
    }
   ],
   "source": [
    "image_data"
   ]
  },
  {
   "cell_type": "code",
   "execution_count": 7,
   "metadata": {},
   "outputs": [
    {
     "data": {
      "text/plain": [
       "{'external_shear': {'dec_0': -0.015080843599149078,\n",
       "  'gamma_ext': 0.06482022080506572,\n",
       "  'psi_ext': 0.05944681143083661,\n",
       "  'ra_0': 0.07149288558835121},\n",
       " 'lens_mass': {'center_x': 0.07149288558835121,\n",
       "  'center_y': -0.015080843599149078,\n",
       "  'e1': -0.5374369052025912,\n",
       "  'e2': -0.13129696610327746,\n",
       "  'gamma': 1.9604900238516267,\n",
       "  'theta_E': 1.0128179599535652},\n",
       " 'src_light': {'R_sersic': 0.5680491282677009,\n",
       "  'center_x': 0.4544962200214132,\n",
       "  'center_y': -0.041380639028759984,\n",
       "  'e1': -0.2015055677335825,\n",
       "  'e2': -0.2328159496510379,\n",
       "  'magnitude': 23.76910980203541,\n",
       "  'n_sersic': 2.29210795690377}}"
      ]
     },
     "execution_count": 7,
     "metadata": {},
     "output_type": "execute_result"
    }
   ],
   "source": [
    "sample_dirty = image_data.to_dict(orient='index')[30]\n",
    "sample = {'lens_mass':dict(),'src_light':dict(),'external_shear':dict()}\n",
    "for samp_key in sample_dirty.keys():\n",
    "    if 'lens_mass' in samp_key:\n",
    "        sample['lens_mass'][samp_key[10:]] = sample_dirty[samp_key]\n",
    "    if 'src_light' in samp_key:\n",
    "        sample['src_light'][samp_key[10:]] = sample_dirty[samp_key]\n",
    "    if 'external_shear' in samp_key:\n",
    "        sample['external_shear'][samp_key[15:]] = sample_dirty[samp_key]\n",
    "\n",
    "sample"
   ]
  },
  {
   "cell_type": "code",
   "execution_count": 16,
   "metadata": {},
   "outputs": [],
   "source": [
    "img, _ = generate_image(sample, psf_model, data_api, lens_mass_model, src_light_model, lens_eq_solver, \n",
    "                                   baobab_cfg.instrument.pixel_scale, baobab_cfg.image.num_pix, baobab_cfg.components, \n",
    "                                   baobab_cfg.numerics,min_magnification=0.0, \n",
    "                                   lens_light_model=lens_light_model, ps_model=ps_model)"
   ]
  },
  {
   "cell_type": "code",
   "execution_count": 10,
   "metadata": {},
   "outputs": [
    {
     "ename": "NameError",
     "evalue": "name 'sim_util' is not defined",
     "output_type": "error",
     "traceback": [
      "\u001b[0;31m---------------------------------------------------------------------------\u001b[0m",
      "\u001b[0;31mNameError\u001b[0m                                 Traceback (most recent call last)",
      "\u001b[0;32m<ipython-input-10-a04483a8dc80>\u001b[0m in \u001b[0;36m<module>\u001b[0;34m\u001b[0m\n\u001b[1;32m     23\u001b[0m \u001b[0;34m\u001b[0m\u001b[0m\n\u001b[1;32m     24\u001b[0m \u001b[0;31m# The kwargs for the noise and dimensions of the data.\u001b[0m\u001b[0;34m\u001b[0m\u001b[0;34m\u001b[0m\u001b[0m\n\u001b[0;32m---> 25\u001b[0;31m kwargs_data = sim_util.data_configure_simple(baobab_cfg.image['num_pix'], baobab_cfg.instrument['pixel_scale'], \n\u001b[0m\u001b[1;32m     26\u001b[0m                                              baobab_cfg.observation['exposure_time'], 200)\n\u001b[1;32m     27\u001b[0m \u001b[0mkwargs_data\u001b[0m\u001b[0;34m[\u001b[0m\u001b[0;34m'image_data'\u001b[0m\u001b[0;34m]\u001b[0m \u001b[0;34m=\u001b[0m \u001b[0mimage\u001b[0m\u001b[0;34m\u001b[0m\u001b[0m\n",
      "\u001b[0;31mNameError\u001b[0m: name 'sim_util' is not defined"
     ]
    }
   ],
   "source": [
    "# First we'll try to infer the parameter values using a traditional forward modeling approach\n",
    "kwargs_model = {'lens_model_list': [baobab_cfg.bnn_omega['lens_mass']['profile']],\n",
    "                'source_light_model_list': [baobab_cfg.bnn_omega['src_light']['profile']]\n",
    "               }\n",
    "\n",
    "kwargs_numerics = {'supersampling_factor': 1, 'supersampling_convolution': False}\n",
    "num_source_model = 1\n",
    "\n",
    "# we have the option to set priors in the model parameters.\n",
    "# TODO Incorporate priors on the other parameters.\n",
    "prior_lens = [[0, 'e1', 0, 0.25], [0, 'e2', 0, 0.25]]\n",
    "# have a look in the LikelihoodModule for a complete description of implemented priors\n",
    "\n",
    "kwargs_likelihood = {'check_bounds': True,\n",
    "                     'force_no_add_image': False,\n",
    "                     'source_marg': False,\n",
    "                     'image_position_uncertainty': 0.004,\n",
    "                     'check_matched_source_position': True,\n",
    "                     'source_position_tolerance': 0.001,\n",
    "                     'source_position_sigma': 0.001,\n",
    "                     'prior_lens': prior_lens\n",
    "                    }\n",
    "\n",
    "# The kwargs for the noise and dimensions of the data.\n",
    "kwargs_data = sim_util.data_configure_simple(baobab_cfg.image['num_pix'], baobab_cfg.instrument['pixel_scale'], \n",
    "                                             baobab_cfg.observation['exposure_time'], 200)\n",
    "kwargs_data['image_data'] = image\n",
    "\n",
    "# The kwargs for the psf\n",
    "kwargs_psf = baobab_cfg.psf\n",
    "\n",
    "image_band = [kwargs_data, kwargs_psf, kwargs_numerics]\n",
    "multi_band_list = [image_band]\n",
    "kwargs_data_joint = {'multi_band_list': multi_band_list, 'multi_band_type': 'single-band'}"
   ]
  },
  {
   "cell_type": "code",
   "execution_count": null,
   "metadata": {},
   "outputs": [],
   "source": [
    "# initial guess of non-linear parameters, we chose different starting parameters than the truth #\n",
    "kwargs_lens_init = [{'theta_E': 1.2, 'e1': 0, 'e2': 0, 'gamma': 2., 'center_x': 0., 'center_y': 0},\n",
    "    {'gamma_ext': 0.01, 'psi_ext': 0.}]\n",
    "kwargs_source_init = [{'R_sersic': 0.03, 'n_sersic': 1., 'e1': 0, 'e2': 0, 'center_x': 0, 'center_y': 0}]\n",
    "\n",
    "# initial spread in parameter estimation #\n",
    "kwargs_lens_sigma = [{'theta_E': 0.3, 'e1': 0.2, 'e2': 0.2, 'gamma': .2, 'center_x': 0.1, 'center_y': 0.1},\n",
    "    {'gamma_ext': 0.1, 'psi_ext': np.pi}]\n",
    "kwargs_source_sigma = [{'R_sersic': 0.1, 'n_sersic': .5, 'center_x': .1, 'center_y': 0.1, 'e1': 0.2, 'e2': 0.2}]\n",
    "\n",
    "# hard bound lower limit in parameter space #\n",
    "kwargs_lower_lens = [{'theta_E': 0, 'e1': -0.5, 'e2': -0.5, 'gamma': 1.5, 'center_x': -10., 'center_y': -10},\n",
    "    {'gamma_ext': 0., 'psi_ext': -np.pi}]\n",
    "kwargs_lower_source = [{'R_sersic': 0.001, 'n_sersic': .5, 'e1': -0.5, 'e2': -0.5, 'center_x': -10, 'center_y': -10}]\n",
    "\n",
    "# hard bound upper limit in parameter space #\n",
    "kwargs_upper_lens = [{'theta_E': 10, 'e1': 0.5, 'e2': 0.5, 'gamma': 2.5, 'center_x': 10., 'center_y': 10},\n",
    "    {'gamma_ext': 0.3, 'psi_ext': np.pi}]\n",
    "kwargs_upper_source = [{'R_sersic': 10, 'n_sersic': 5., 'e1': 0.5, 'e2': 0.5, 'center_x': 10, 'center_y': 10}]\n",
    "\n",
    "lens_params = [kwargs_lens_init, kwargs_lens_sigma, [{}, {'ra_0': 0, 'dec_0': 0}], kwargs_lower_lens, kwargs_upper_lens]\n",
    "source_params = [kwargs_source_init, kwargs_source_sigma, [{}], kwargs_lower_source, kwargs_upper_source]\n",
    "kwargs_params = {'lens_model': lens_params,\n",
    "                'source_model': source_params}\n",
    "\n",
    "fitting_seq = FittingSequence(kwargs_data_joint, kwargs_model, {}, kwargs_likelihood, kwargs_params)\n"
   ]
  },
  {
   "cell_type": "code",
   "execution_count": 124,
   "metadata": {},
   "outputs": [
    {
     "ename": "TypeError",
     "evalue": "__init__() got an unexpected keyword argument 'type'",
     "output_type": "error",
     "traceback": [
      "\u001b[0;31m---------------------------------------------------------------------------\u001b[0m",
      "\u001b[0;31mTypeError\u001b[0m                                 Traceback (most recent call last)",
      "\u001b[0;32m<ipython-input-124-5a62237ee799>\u001b[0m in \u001b[0;36m<module>\u001b[0;34m\u001b[0m\n\u001b[1;32m      3\u001b[0m         ]\n\u001b[1;32m      4\u001b[0m \u001b[0;34m\u001b[0m\u001b[0m\n\u001b[0;32m----> 5\u001b[0;31m \u001b[0mchain_list\u001b[0m \u001b[0;34m=\u001b[0m \u001b[0mfitting_seq\u001b[0m\u001b[0;34m.\u001b[0m\u001b[0mfit_sequence\u001b[0m\u001b[0;34m(\u001b[0m\u001b[0mfitting_kwargs_list\u001b[0m\u001b[0;34m)\u001b[0m\u001b[0;34m\u001b[0m\u001b[0;34m\u001b[0m\u001b[0m\n\u001b[0m\u001b[1;32m      6\u001b[0m \u001b[0mkwargs_result\u001b[0m \u001b[0;34m=\u001b[0m \u001b[0mfitting_seq\u001b[0m\u001b[0;34m.\u001b[0m\u001b[0mbest_fit\u001b[0m\u001b[0;34m(\u001b[0m\u001b[0;34m)\u001b[0m\u001b[0;34m\u001b[0m\u001b[0;34m\u001b[0m\u001b[0m\n",
      "\u001b[0;32m/opt/anaconda3/lib/python3.7/site-packages/lenstronomy/Workflow/fitting_sequence.py\u001b[0m in \u001b[0;36mfit_sequence\u001b[0;34m(self, fitting_list)\u001b[0m\n\u001b[1;32m     78\u001b[0m \u001b[0;34m\u001b[0m\u001b[0m\n\u001b[1;32m     79\u001b[0m             \u001b[0;32melif\u001b[0m \u001b[0mfitting_type\u001b[0m \u001b[0;34m==\u001b[0m \u001b[0;34m'PSO'\u001b[0m\u001b[0;34m:\u001b[0m\u001b[0;34m\u001b[0m\u001b[0;34m\u001b[0m\u001b[0m\n\u001b[0;32m---> 80\u001b[0;31m                 \u001b[0mkwargs_result\u001b[0m\u001b[0;34m,\u001b[0m \u001b[0mchain\u001b[0m\u001b[0;34m,\u001b[0m \u001b[0mparam\u001b[0m \u001b[0;34m=\u001b[0m \u001b[0mself\u001b[0m\u001b[0;34m.\u001b[0m\u001b[0mpso\u001b[0m\u001b[0;34m(\u001b[0m\u001b[0;34m**\u001b[0m\u001b[0mkwargs\u001b[0m\u001b[0;34m)\u001b[0m\u001b[0;34m\u001b[0m\u001b[0;34m\u001b[0m\u001b[0m\n\u001b[0m\u001b[1;32m     81\u001b[0m                 \u001b[0mself\u001b[0m\u001b[0;34m.\u001b[0m\u001b[0m_updateManager\u001b[0m\u001b[0;34m.\u001b[0m\u001b[0mupdate_param_state\u001b[0m\u001b[0;34m(\u001b[0m\u001b[0;34m**\u001b[0m\u001b[0mkwargs_result\u001b[0m\u001b[0;34m)\u001b[0m\u001b[0;34m\u001b[0m\u001b[0;34m\u001b[0m\u001b[0m\n\u001b[1;32m     82\u001b[0m                 \u001b[0mchain_list\u001b[0m\u001b[0;34m.\u001b[0m\u001b[0mappend\u001b[0m\u001b[0;34m(\u001b[0m\u001b[0;34m[\u001b[0m\u001b[0mfitting_type\u001b[0m\u001b[0;34m,\u001b[0m \u001b[0mchain\u001b[0m\u001b[0;34m,\u001b[0m \u001b[0mparam\u001b[0m\u001b[0;34m]\u001b[0m\u001b[0;34m)\u001b[0m\u001b[0;34m\u001b[0m\u001b[0;34m\u001b[0m\u001b[0m\n",
      "\u001b[0;32m/opt/anaconda3/lib/python3.7/site-packages/lenstronomy/Workflow/fitting_sequence.py\u001b[0m in \u001b[0;36mpso\u001b[0;34m(self, n_particles, n_iterations, sigma_scale, print_key, threadCount)\u001b[0m\n\u001b[1;32m    257\u001b[0m \u001b[0;34m\u001b[0m\u001b[0m\n\u001b[1;32m    258\u001b[0m         \u001b[0;31m# run PSO\u001b[0m\u001b[0;34m\u001b[0m\u001b[0;34m\u001b[0m\u001b[0;34m\u001b[0m\u001b[0m\n\u001b[0;32m--> 259\u001b[0;31m         \u001b[0msampler\u001b[0m \u001b[0;34m=\u001b[0m \u001b[0mSampler\u001b[0m\u001b[0;34m(\u001b[0m\u001b[0mlikelihoodModule\u001b[0m\u001b[0;34m=\u001b[0m\u001b[0mself\u001b[0m\u001b[0;34m.\u001b[0m\u001b[0mlikelihoodModule\u001b[0m\u001b[0;34m)\u001b[0m\u001b[0;34m\u001b[0m\u001b[0;34m\u001b[0m\u001b[0m\n\u001b[0m\u001b[1;32m    260\u001b[0m         result, chain = sampler.pso(n_particles, n_iterations, lowerLimit, upperLimit, init_pos=init_pos,\n\u001b[1;32m    261\u001b[0m                                        threadCount=threadCount, mpi=self._mpi, print_key=print_key)\n",
      "\u001b[0;32m/opt/anaconda3/lib/python3.7/site-packages/lenstronomy/Workflow/fitting_sequence.py\u001b[0m in \u001b[0;36mlikelihoodModule\u001b[0;34m(self)\u001b[0m\n\u001b[1;32m    166\u001b[0m         \u001b[0mkwargs_model\u001b[0m \u001b[0;34m=\u001b[0m \u001b[0mself\u001b[0m\u001b[0;34m.\u001b[0m\u001b[0m_updateManager\u001b[0m\u001b[0;34m.\u001b[0m\u001b[0mkwargs_model\u001b[0m\u001b[0;34m\u001b[0m\u001b[0;34m\u001b[0m\u001b[0m\n\u001b[1;32m    167\u001b[0m         \u001b[0mkwargs_likelihood\u001b[0m \u001b[0;34m=\u001b[0m \u001b[0mself\u001b[0m\u001b[0;34m.\u001b[0m\u001b[0m_updateManager\u001b[0m\u001b[0;34m.\u001b[0m\u001b[0mkwargs_likelihood\u001b[0m\u001b[0;34m\u001b[0m\u001b[0;34m\u001b[0m\u001b[0m\n\u001b[0;32m--> 168\u001b[0;31m         \u001b[0mlikelihoodModule\u001b[0m \u001b[0;34m=\u001b[0m \u001b[0mLikelihoodModule\u001b[0m\u001b[0;34m(\u001b[0m\u001b[0mself\u001b[0m\u001b[0;34m.\u001b[0m\u001b[0mkwargs_data_joint\u001b[0m\u001b[0;34m,\u001b[0m \u001b[0mkwargs_model\u001b[0m\u001b[0;34m,\u001b[0m \u001b[0mself\u001b[0m\u001b[0;34m.\u001b[0m\u001b[0mparam_class\u001b[0m\u001b[0;34m,\u001b[0m \u001b[0;34m**\u001b[0m\u001b[0mkwargs_likelihood\u001b[0m\u001b[0;34m)\u001b[0m\u001b[0;34m\u001b[0m\u001b[0;34m\u001b[0m\u001b[0m\n\u001b[0m\u001b[1;32m    169\u001b[0m         \u001b[0;32mreturn\u001b[0m \u001b[0mlikelihoodModule\u001b[0m\u001b[0;34m\u001b[0m\u001b[0;34m\u001b[0m\u001b[0m\n\u001b[1;32m    170\u001b[0m \u001b[0;34m\u001b[0m\u001b[0m\n",
      "\u001b[0;32m/opt/anaconda3/lib/python3.7/site-packages/lenstronomy/Sampling/likelihood.py\u001b[0m in \u001b[0;36m__init__\u001b[0;34m(self, kwargs_data_joint, kwargs_model, param_class, image_likelihood, check_bounds, check_matched_source_position, astrometric_likelihood, image_position_likelihood, source_position_likelihood, image_position_uncertainty, check_positive_flux, source_position_tolerance, source_position_sigma, force_no_add_image, source_marg, linear_prior, restrict_image_number, max_num_images, bands_compute, time_delay_likelihood, force_minimum_source_surface_brightness, flux_min, image_likelihood_mask_list, flux_ratio_likelihood, kwargs_flux_compute, prior_lens, prior_source, prior_extinction, prior_lens_light, prior_ps, prior_special, prior_lens_kde, prior_source_kde, prior_lens_light_kde, prior_ps_kde, prior_special_kde, prior_extinction_kde, prior_lens_lognormal, prior_source_lognormal, prior_extinction_lognormal, prior_lens_light_lognormal, prior_ps_lognormal, prior_special_lognormal, custom_logL_addition)\u001b[0m\n\u001b[1;32m     97\u001b[0m                                                     \u001b[0msource_marg\u001b[0m\u001b[0;34m=\u001b[0m\u001b[0msource_marg\u001b[0m\u001b[0;34m,\u001b[0m \u001b[0mlinear_prior\u001b[0m\u001b[0;34m=\u001b[0m\u001b[0mlinear_prior\u001b[0m\u001b[0;34m,\u001b[0m\u001b[0;34m\u001b[0m\u001b[0;34m\u001b[0m\u001b[0m\n\u001b[1;32m     98\u001b[0m                                                     \u001b[0mforce_minimum_source_surface_brightness\u001b[0m\u001b[0;34m=\u001b[0m\u001b[0mforce_minimum_source_surface_brightness\u001b[0m\u001b[0;34m,\u001b[0m\u001b[0;34m\u001b[0m\u001b[0;34m\u001b[0m\u001b[0m\n\u001b[0;32m---> 99\u001b[0;31m                                                     flux_min=flux_min)\n\u001b[0m\u001b[1;32m    100\u001b[0m         self._position_likelihood = PositionLikelihood(point_source_class, astrometric_likelihood=astrometric_likelihood,\n\u001b[1;32m    101\u001b[0m                                                        \u001b[0mimage_position_likelihood\u001b[0m\u001b[0;34m=\u001b[0m\u001b[0mimage_position_likelihood\u001b[0m\u001b[0;34m,\u001b[0m\u001b[0;34m\u001b[0m\u001b[0;34m\u001b[0m\u001b[0m\n",
      "\u001b[0;32m/opt/anaconda3/lib/python3.7/site-packages/lenstronomy/Sampling/Likelihoods/image_likelihood.py\u001b[0m in \u001b[0;36m__init__\u001b[0;34m(self, multi_band_list, multi_band_type, kwargs_model, bands_compute, likelihood_mask_list, source_marg, linear_prior, force_minimum_source_surface_brightness, flux_min)\u001b[0m\n\u001b[1;32m     26\u001b[0m \u001b[0;34m\u001b[0m\u001b[0m\n\u001b[1;32m     27\u001b[0m         self.imSim = class_creator.create_im_sim(multi_band_list, multi_band_type, kwargs_model, bands_compute=bands_compute,\n\u001b[0;32m---> 28\u001b[0;31m                                    likelihood_mask_list=likelihood_mask_list, band_index=0)\n\u001b[0m\u001b[1;32m     29\u001b[0m         \u001b[0mself\u001b[0m\u001b[0;34m.\u001b[0m\u001b[0m_model_type\u001b[0m \u001b[0;34m=\u001b[0m \u001b[0mself\u001b[0m\u001b[0;34m.\u001b[0m\u001b[0mimSim\u001b[0m\u001b[0;34m.\u001b[0m\u001b[0mtype\u001b[0m\u001b[0;34m\u001b[0m\u001b[0;34m\u001b[0m\u001b[0m\n\u001b[1;32m     30\u001b[0m         \u001b[0mself\u001b[0m\u001b[0;34m.\u001b[0m\u001b[0m_source_marg\u001b[0m \u001b[0;34m=\u001b[0m \u001b[0msource_marg\u001b[0m\u001b[0;34m\u001b[0m\u001b[0;34m\u001b[0m\u001b[0m\n",
      "\u001b[0;32m/opt/anaconda3/lib/python3.7/site-packages/lenstronomy/Util/class_creator.py\u001b[0m in \u001b[0;36mcreate_im_sim\u001b[0;34m(multi_band_list, multi_band_type, kwargs_model, bands_compute, likelihood_mask_list, band_index)\u001b[0m\n\u001b[1;32m    163\u001b[0m         \u001b[0;32mfrom\u001b[0m \u001b[0mlenstronomy\u001b[0m\u001b[0;34m.\u001b[0m\u001b[0mImSim\u001b[0m\u001b[0;34m.\u001b[0m\u001b[0mMultiBand\u001b[0m\u001b[0;34m.\u001b[0m\u001b[0msingle_band_multi_model\u001b[0m \u001b[0;32mimport\u001b[0m \u001b[0mSingleBandMultiModel\u001b[0m\u001b[0;34m\u001b[0m\u001b[0;34m\u001b[0m\u001b[0m\n\u001b[1;32m    164\u001b[0m         multiband = SingleBandMultiModel(multi_band_list, kwargs_model, likelihood_mask_list=likelihood_mask_list,\n\u001b[0;32m--> 165\u001b[0;31m                                          band_index=band_index)\n\u001b[0m\u001b[1;32m    166\u001b[0m     \u001b[0;32melse\u001b[0m\u001b[0;34m:\u001b[0m\u001b[0;34m\u001b[0m\u001b[0;34m\u001b[0m\u001b[0m\n\u001b[1;32m    167\u001b[0m         \u001b[0;32mraise\u001b[0m \u001b[0mValueError\u001b[0m\u001b[0;34m(\u001b[0m\u001b[0;34m\"type %s is not supported!\"\u001b[0m \u001b[0;34m%\u001b[0m \u001b[0mmulti_band_type\u001b[0m\u001b[0;34m)\u001b[0m\u001b[0;34m\u001b[0m\u001b[0;34m\u001b[0m\u001b[0m\n",
      "\u001b[0;32m/opt/anaconda3/lib/python3.7/site-packages/lenstronomy/ImSim/MultiBand/single_band_multi_model.py\u001b[0m in \u001b[0;36m__init__\u001b[0;34m(self, multi_band_list, kwargs_model, likelihood_mask_list, band_index)\u001b[0m\n\u001b[1;32m     26\u001b[0m         \u001b[0mkwargs_numerics\u001b[0m \u001b[0;34m=\u001b[0m \u001b[0mmulti_band_list\u001b[0m\u001b[0;34m[\u001b[0m\u001b[0mband_index\u001b[0m\u001b[0;34m]\u001b[0m\u001b[0;34m[\u001b[0m\u001b[0;36m2\u001b[0m\u001b[0;34m]\u001b[0m\u001b[0;34m\u001b[0m\u001b[0;34m\u001b[0m\u001b[0m\n\u001b[1;32m     27\u001b[0m         \u001b[0mdata_i\u001b[0m \u001b[0;34m=\u001b[0m \u001b[0mImageData\u001b[0m\u001b[0;34m(\u001b[0m\u001b[0;34m**\u001b[0m\u001b[0mkwargs_data\u001b[0m\u001b[0;34m)\u001b[0m\u001b[0;34m\u001b[0m\u001b[0;34m\u001b[0m\u001b[0m\n\u001b[0;32m---> 28\u001b[0;31m         \u001b[0mpsf_i\u001b[0m \u001b[0;34m=\u001b[0m \u001b[0mPSF\u001b[0m\u001b[0;34m(\u001b[0m\u001b[0;34m**\u001b[0m\u001b[0mkwargs_psf\u001b[0m\u001b[0;34m)\u001b[0m\u001b[0;34m\u001b[0m\u001b[0;34m\u001b[0m\u001b[0m\n\u001b[0m\u001b[1;32m     29\u001b[0m \u001b[0;34m\u001b[0m\u001b[0m\n\u001b[1;32m     30\u001b[0m         \u001b[0mindex_lens_model_list\u001b[0m \u001b[0;34m=\u001b[0m \u001b[0mkwargs_model\u001b[0m\u001b[0;34m.\u001b[0m\u001b[0mget\u001b[0m\u001b[0;34m(\u001b[0m\u001b[0;34m'index_lens_model_list'\u001b[0m\u001b[0;34m,\u001b[0m \u001b[0;34m[\u001b[0m\u001b[0;32mNone\u001b[0m \u001b[0;32mfor\u001b[0m \u001b[0mi\u001b[0m \u001b[0;32min\u001b[0m \u001b[0mrange\u001b[0m\u001b[0;34m(\u001b[0m\u001b[0mlen\u001b[0m\u001b[0;34m(\u001b[0m\u001b[0mmulti_band_list\u001b[0m\u001b[0;34m)\u001b[0m\u001b[0;34m)\u001b[0m\u001b[0;34m]\u001b[0m\u001b[0;34m)\u001b[0m\u001b[0;34m\u001b[0m\u001b[0;34m\u001b[0m\u001b[0m\n",
      "\u001b[0;31mTypeError\u001b[0m: __init__() got an unexpected keyword argument 'type'"
     ]
    }
   ],
   "source": [
    "fitting_kwargs_list = [['PSO', {'sigma_scale': 1., 'n_particles': 100, 'n_iterations': 200}],\n",
    "                       ['MCMC', {'n_burn': 20, 'n_run': 20, 'walkerRatio': 4, 'sigma_scale': .1}]\n",
    "        ]\n",
    "\n",
    "chain_list = fitting_seq.fit_sequence(fitting_kwargs_list)\n",
    "kwargs_result = fitting_seq.best_fit()"
   ]
  },
  {
   "cell_type": "code",
   "execution_count": null,
   "metadata": {},
   "outputs": [],
   "source": []
  }
 ],
 "metadata": {
  "kernelspec": {
   "display_name": "Python 3",
   "language": "python",
   "name": "python3"
  },
  "language_info": {
   "codemirror_mode": {
    "name": "ipython",
    "version": 3
   },
   "file_extension": ".py",
   "mimetype": "text/x-python",
   "name": "python",
   "nbconvert_exporter": "python",
   "pygments_lexer": "ipython3",
   "version": "3.5.3"
  }
 },
 "nbformat": 4,
 "nbformat_minor": 4
}
