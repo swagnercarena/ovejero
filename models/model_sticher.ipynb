{
 "cells": [
  {
   "cell_type": "code",
   "execution_count": null,
   "metadata": {},
   "outputs": [],
   "source": [
    "import tensorflow as tf\n",
    "from ovejero import bnn_alexnet\n",
    "import numpy as np"
   ]
  },
  {
   "cell_type": "markdown",
   "metadata": {},
   "source": [
    "### Stitch weights from one model into another"
   ]
  },
  {
   "cell_type": "markdown",
   "metadata": {},
   "source": [
    "From diag model to full model"
   ]
  },
  {
   "cell_type": "code",
   "execution_count": null,
   "metadata": {},
   "outputs": [],
   "source": [
    "img_dim = 128\n",
    "num_params = 8\n",
    "\n",
    "# These parameters aren't important but are needed to intialize the model\n",
    "kr = 1e-6\n",
    "dr = 1e-6\n",
    "random_seed = 1234\n",
    "\n",
    "# Initialize the two types of models\n",
    "num_outputs = num_params*2\n",
    "diag_model = bnn_alexnet.concrete_alexnet((img_dim, img_dim, 1), num_outputs,\n",
    "    kernel_regularizer=kr,dropout_regularizer=dr,random_seed=random_seed)\n",
    "\n",
    "num_outputs = num_params + int(num_params*(num_params+1)/2)\n",
    "full_model = bnn_alexnet.concrete_alexnet((img_dim, img_dim, 1), num_outputs,\n",
    "    kernel_regularizer=kr,dropout_regularizer=dr,random_seed=random_seed)"
   ]
  },
  {
   "cell_type": "code",
   "execution_count": null,
   "metadata": {},
   "outputs": [],
   "source": [
    "# Load the weights into the diagonal model\n",
    "load_weights_path = '/home/swagnercarena/ovejero/models/t1.h5'\n",
    "save_weights_path = '/home/swagnercarena/ovejero/models/t2.h5'\n",
    "diag_model.load_weights(load_weights_path)"
   ]
  },
  {
   "cell_type": "code",
   "execution_count": null,
   "metadata": {},
   "outputs": [],
   "source": [
    "# Now, for all but the last layer, use the diag model weights to set the full covariance model weights\n",
    "for lay_i in range(len(diag_model.layers)-1):\n",
    "    get_layer = diag_model.layers[lay_i]\n",
    "    set_layer = full_model.layers[lay_i]\n",
    "    set_layer.set_weights(get_layer.get_weights())"
   ]
  },
  {
   "cell_type": "code",
   "execution_count": null,
   "metadata": {},
   "outputs": [],
   "source": [
    "# Quickly check that it all worked the way you wanted it to\n",
    "for lay_i in range(len(diag_model.layers)-1):\n",
    "    diag_layer = diag_model.layers[lay_i]\n",
    "    full_layer = full_model.layers[lay_i]\n",
    "    for weight_i in range(len(diag_layer.weights)):\n",
    "        assert np.sum(np.abs(full_layer.weights[weight_i].numpy()-diag_layer.weights[weight_i].numpy())) == 0"
   ]
  },
  {
   "cell_type": "code",
   "execution_count": null,
   "metadata": {},
   "outputs": [],
   "source": [
    "# Now finally save the weights to the new path\n",
    "full_model.save(save_weights_path)"
   ]
  },
  {
   "cell_type": "markdown",
   "metadata": {},
   "source": [
    "From full model to diag model"
   ]
  },
  {
   "cell_type": "code",
   "execution_count": null,
   "metadata": {},
   "outputs": [],
   "source": [
    "img_dim = 128\n",
    "num_params = 8\n",
    "\n",
    "# These parameters aren't important but are needed to intialize the model\n",
    "kr = 1e-6\n",
    "dr = 1e-6\n",
    "random_seed = 1234\n",
    "\n",
    "# Initialize the two types of models\n",
    "num_outputs = num_params + int(num_params*(num_params+1)/2)\n",
    "full_model = bnn_alexnet.concrete_alexnet((img_dim, img_dim, 1), num_outputs,\n",
    "    kernel_regularizer=kr,dropout_regularizer=dr,random_seed=random_seed)\n",
    "\n",
    "num_outputs = 2*(num_params + int(num_params*(num_params+1)/2))+1\n",
    "gmm_model = bnn_alexnet.concrete_alexnet((img_dim, img_dim, 1), num_outputs,\n",
    "    kernel_regularizer=kr,dropout_regularizer=dr,random_seed=random_seed)"
   ]
  },
  {
   "cell_type": "code",
   "execution_count": null,
   "metadata": {},
   "outputs": [],
   "source": [
    "# Load the weights into the diagonal model\n",
    "load_weights_path = '/home/swagnercarena/ovejero/models/t2.h5'\n",
    "save_weights_path = '/home/swagnercarena/ovejero/models/t3.h5'\n",
    "full_model.load_weights(load_weights_path)"
   ]
  },
  {
   "cell_type": "code",
   "execution_count": null,
   "metadata": {},
   "outputs": [],
   "source": [
    "# Now, for all but the last layer, use the diag model weights to set the full covariance model weights\n",
    "for lay_i in range(len(full_model.layers)-1):\n",
    "    get_layer = full_model.layers[lay_i]\n",
    "    set_layer = gmm_model.layers[lay_i]\n",
    "    set_layer.set_weights(get_layer.get_weights())"
   ]
  },
  {
   "cell_type": "code",
   "execution_count": null,
   "metadata": {},
   "outputs": [],
   "source": [
    "# Quickly check that it all worked the way you wanted it to\n",
    "for lay_i in range(len(full_model.layers)-1):\n",
    "    full_layer = full_model.layers[lay_i]\n",
    "    gmm_layer = gmm_model.layers[lay_i]\n",
    "    for weight_i in range(len(full_layer.weights)):\n",
    "        assert np.sum(np.abs(gmm_layer.weights[weight_i].numpy()-full_layer.weights[weight_i].numpy())) == 0"
   ]
  },
  {
   "cell_type": "code",
   "execution_count": null,
   "metadata": {},
   "outputs": [],
   "source": [
    "# Now finally save the weights to the new path\n",
    "gmm_model.save(save_weights_path)"
   ]
  },
  {
   "cell_type": "code",
   "execution_count": null,
   "metadata": {},
   "outputs": [],
   "source": []
  }
 ],
 "metadata": {
  "kernelspec": {
   "display_name": "Python 3",
   "language": "python",
   "name": "python3"
  },
  "language_info": {
   "codemirror_mode": {
    "name": "ipython",
    "version": 3
   },
   "file_extension": ".py",
   "mimetype": "text/x-python",
   "name": "python",
   "nbconvert_exporter": "python",
   "pygments_lexer": "ipython3",
   "version": "3.6.8"
  }
 },
 "nbformat": 4,
 "nbformat_minor": 2
}
